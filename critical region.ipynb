{
 "cells": [
  {
   "cell_type": "code",
   "execution_count": 1,
   "metadata": {},
   "outputs": [
    {
     "name": "stdout",
     "output_type": "stream",
     "text": [
      "T-test distribution:  1.8124611228107335\n",
      "Significance level:  0.949999999999923\n"
     ]
    }
   ],
   "source": [
    "'''\n",
    "This returns the value of about 1.812 or less that covers 95% of the observations from the chosen distribution. \n",
    "The probability of the value is then confirmed (with minor rounding error) via the CDF (Cumulative distribution function).\n",
    "'''\n",
    "\n",
    "# Critical region and level of significance\n",
    "# T-test distribution Percent Point Function\n",
    "from scipy.stats import t\n",
    "# define probability\n",
    "p = 0.95\n",
    "df = 10\n",
    "# retrieve value <= probability\n",
    "t_dist_value = t.ppf(p, df)\n",
    "print(\"T-test distribution: \",t_dist_value)\n",
    "# confirm with cdf\n",
    "significance_lvl = t.cdf(t_dist_value, df)\n",
    "print(\"Significance level: \", significance_lvl)"
   ]
  }
 ],
 "metadata": {
  "interpreter": {
   "hash": "e2fb31f127fed1e79f709faf34890f85681c06e7e30d28a328e5c7500cdf6725"
  },
  "kernelspec": {
   "display_name": "Python 3.7.9 64-bit",
   "language": "python",
   "name": "python3"
  },
  "language_info": {
   "codemirror_mode": {
    "name": "ipython",
    "version": 3
   },
   "file_extension": ".py",
   "mimetype": "text/x-python",
   "name": "python",
   "nbconvert_exporter": "python",
   "pygments_lexer": "ipython3",
   "version": "3.7.9"
  },
  "orig_nbformat": 4
 },
 "nbformat": 4,
 "nbformat_minor": 2
}
