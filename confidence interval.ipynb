{
 "cells": [
  {
   "cell_type": "code",
   "execution_count": 1,
   "metadata": {},
   "outputs": [
    {
     "name": "stdout",
     "output_type": "stream",
     "text": [
      "Confidence interval for population mean 20.4 is (16.75776979778498, 24.042230202215016)\n",
      "Population Variance is 40.37333333333333\n",
      "Sample Variance is 43.25714285714285\n",
      "CI of variance (23.18623242236835,107.59095200474444)\n",
      "Population proportion is 0.4666666666666667\n",
      "Margin of error is 0.252471985978056\n",
      "Confidence interval for proportion is (0.2141946806886107,0.7191386526447227)\n"
     ]
    }
   ],
   "source": [
    "import numpy as np\n",
    "import scipy.stats as st\n",
    "import math\n",
    "\n",
    "#define sample data\n",
    "data = [12, 12, 13, 13, 15, 16, 17, 22, 23, 25, 26, 27, 28, 28, 29]\n",
    "\n",
    "#create 95% confidence interval for population mean weight\n",
    "popl_mean = np.mean(data)\n",
    "confidence_interval = st.t.interval(alpha=0.95, df=len(data)-1, loc=popl_mean, scale=st.sem(data)) \n",
    "\n",
    "print(\"Confidence interval for population mean {0} is {1}\".format(popl_mean,confidence_interval))\n",
    "\n",
    "popl_variance = np.var(data, axis=None)\n",
    "\n",
    "print(\"Population Variance is {0}\".format(popl_variance))\n",
    "\n",
    "s2 = np.var(data, axis=None, ddof= 1)\n",
    "\n",
    "print(\"Sample Variance is {0}\".format(s2))\n",
    "\n",
    "alpha = 0.05 # significance level = 5%\n",
    "\n",
    "n = len(data)\n",
    "\n",
    "df = n - 1 # degree of freedom\n",
    "\n",
    "upper = ((n - 1) * s2) / st.chi2.ppf(alpha / 2, df)\n",
    "lower = ((n - 1) * s2) / st.chi2.ppf(1 - alpha / 2, df)\n",
    "\n",
    "print(\"CI of variance ({0},{1})\".format(lower,upper))\n",
    "\n",
    "# height of plants less then 20 inches\n",
    "_p = 7/len(data)\n",
    "\n",
    "z = 1.96 # For 95% confident\n",
    "popl_prop = _p*(1-_p)/len(data)\n",
    "\n",
    "popl_prop = math.sqrt(popl_prop)\n",
    "print(\"Population proportion is {0}\".format(_p))\n",
    "margin_of_error = z*popl_prop\n",
    "print(\"Margin of error is {0}\".format(margin_of_error))\n",
    "print(\"Confidence interval for proportion is ({0},{1})\".format(_p-margin_of_error,\n",
    "_p+margin_of_error))"
   ]
  }
 ],
 "metadata": {
  "interpreter": {
   "hash": "e2fb31f127fed1e79f709faf34890f85681c06e7e30d28a328e5c7500cdf6725"
  },
  "kernelspec": {
   "display_name": "Python 3.7.9 64-bit",
   "language": "python",
   "name": "python3"
  },
  "language_info": {
   "codemirror_mode": {
    "name": "ipython",
    "version": 3
   },
   "file_extension": ".py",
   "mimetype": "text/x-python",
   "name": "python",
   "nbconvert_exporter": "python",
   "pygments_lexer": "ipython3",
   "version": "3.7.9"
  },
  "orig_nbformat": 4
 },
 "nbformat": 4,
 "nbformat_minor": 2
}
