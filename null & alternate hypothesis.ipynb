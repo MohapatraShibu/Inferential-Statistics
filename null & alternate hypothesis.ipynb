{
 "cells": [
  {
   "cell_type": "code",
   "execution_count": 1,
   "metadata": {},
   "outputs": [
    {
     "name": "stdout",
     "output_type": "stream",
     "text": [
      "Confidence interval in mean = (-0.8520326742900641,3.332032674290068)\n",
      "Accept Null Hypothesis - H0\n"
     ]
    }
   ],
   "source": [
    "from scipy import stats\n",
    "import numpy as np\n",
    "\n",
    "x1 = [12.9, 10.2, 7.4, 7.0, 10.5, 11.9, 7.1, 9.9, 14.4, 11.3]\n",
    "x2 = [10.2, 6.9, 10.9, 11.0, 10.1, 5.3, 7.5, 10.3, 9.2, 8.8]\n",
    "\n",
    "alpha = 0.05                                                 # significance level = 5%\n",
    "n1, n2 = len(x1), len(x2)                                    # sample sizes\n",
    "s1, s2 = np.var(x1, ddof=1), np.var(x2, ddof=1)              # sample variances\n",
    "s = np.sqrt(((n1 - 1) * s1 + (n2 - 1) * s2) / (n1 + n2 - 2)) # pooled standard deviation\n",
    "df = n1 + n2 - 2                                             # degrees of freedom\n",
    "t = stats.t.ppf(1 - alpha/2, df)                             # t-critical value for 95% CI\n",
    "\n",
    "lower = (np.mean(x1) - np.mean(x2)) - t * np.sqrt(1 / len(x1) + 1 / len(x2)) * s\n",
    "upper = (np.mean(x1) - np.mean(x2)) + t * np.sqrt(1 / len(x1) + 1 / len(x2)) * s\n",
    "\n",
    "print(\"Confidence interval in mean = ({0},{1})\".format(lower,upper))\n",
    "\n",
    "# The 95% confidence interval of difference in means has 0 within its interval. \n",
    "# This means that the null hypothesis, H0:μ1−μ2=0 in figure (9), falls within the \n",
    "# interval and we fail to reject the null hypothesis. We conclude that the sample means\n",
    "# are not significantly different.\n",
    "\n",
    "# Alternate method using hypothesis testing.\n",
    "\n",
    "statistics, pvalue = stats.ttest_ind(x1, x2, equal_var=True)\n",
    "\n",
    "if pvalue > alpha:\n",
    "    print(\"Accept Null Hypothesis - H0\")\n",
    "else:\n",
    "    print(\"Rejected Null Hypothesis (accept Alternative hypothesis) - H1\")"
   ]
  }
 ],
 "metadata": {
  "interpreter": {
   "hash": "e2fb31f127fed1e79f709faf34890f85681c06e7e30d28a328e5c7500cdf6725"
  },
  "kernelspec": {
   "display_name": "Python 3.7.9 64-bit",
   "language": "python",
   "name": "python3"
  },
  "language_info": {
   "codemirror_mode": {
    "name": "ipython",
    "version": 3
   },
   "file_extension": ".py",
   "mimetype": "text/x-python",
   "name": "python",
   "nbconvert_exporter": "python",
   "pygments_lexer": "ipython3",
   "version": "3.7.9"
  },
  "orig_nbformat": 4
 },
 "nbformat": 4,
 "nbformat_minor": 2
}
