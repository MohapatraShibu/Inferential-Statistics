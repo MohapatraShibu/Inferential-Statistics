{
 "cells": [
  {
   "cell_type": "code",
   "execution_count": 1,
   "metadata": {},
   "outputs": [
    {
     "name": "stdout",
     "output_type": "stream",
     "text": [
      "contingency_table\n"
     ]
    },
    {
     "data": {
      "text/html": [
       "<div>\n",
       "<style scoped>\n",
       "    .dataframe tbody tr th:only-of-type {\n",
       "        vertical-align: middle;\n",
       "    }\n",
       "\n",
       "    .dataframe tbody tr th {\n",
       "        vertical-align: top;\n",
       "    }\n",
       "\n",
       "    .dataframe thead th {\n",
       "        text-align: right;\n",
       "    }\n",
       "</style>\n",
       "<table border=\"1\" class=\"dataframe\">\n",
       "  <thead>\n",
       "    <tr style=\"text-align: right;\">\n",
       "      <th>Sex</th>\n",
       "      <th>female</th>\n",
       "      <th>male</th>\n",
       "    </tr>\n",
       "    <tr>\n",
       "      <th>Survived</th>\n",
       "      <th></th>\n",
       "      <th></th>\n",
       "    </tr>\n",
       "  </thead>\n",
       "  <tbody>\n",
       "    <tr>\n",
       "      <th>Not Survived</th>\n",
       "      <td>6</td>\n",
       "      <td>54</td>\n",
       "    </tr>\n",
       "    <tr>\n",
       "      <th>Survived</th>\n",
       "      <td>82</td>\n",
       "      <td>41</td>\n",
       "    </tr>\n",
       "  </tbody>\n",
       "</table>\n",
       "</div>"
      ],
      "text/plain": [
       "Sex           female  male\n",
       "Survived                  \n",
       "Not Survived       6    54\n",
       "Survived          82    41"
      ]
     },
     "execution_count": 1,
     "metadata": {},
     "output_type": "execute_result"
    }
   ],
   "source": [
    "import numpy as np\n",
    "import pandas as pd\n",
    "import scipy.stats.distributions as dist\n",
    "\n",
    "# DATASET\n",
    "data = pd.read_csv('train.csv')\n",
    "data['Survived'] = data['Survived'].map({1:'Survived',0:'Not Survived'}) #Encode the values\n",
    "data = data.dropna() #Drop the nan values\n",
    "contingency_table = pd.crosstab(data.Survived,data.Sex) #Contingency Table\n",
    "print(\"contingency_table\")\n",
    "contingency_table"
   ]
  },
  {
   "cell_type": "code",
   "execution_count": 2,
   "metadata": {},
   "outputs": [
    {
     "name": "stdout",
     "output_type": "stream",
     "text": [
      "Crosstab data\n"
     ]
    },
    {
     "data": {
      "text/html": [
       "<div>\n",
       "<style scoped>\n",
       "    .dataframe tbody tr th:only-of-type {\n",
       "        vertical-align: middle;\n",
       "    }\n",
       "\n",
       "    .dataframe tbody tr th {\n",
       "        vertical-align: top;\n",
       "    }\n",
       "\n",
       "    .dataframe thead th {\n",
       "        text-align: right;\n",
       "    }\n",
       "</style>\n",
       "<table border=\"1\" class=\"dataframe\">\n",
       "  <thead>\n",
       "    <tr style=\"text-align: right;\">\n",
       "      <th>Sex</th>\n",
       "      <th>female</th>\n",
       "      <th>male</th>\n",
       "    </tr>\n",
       "    <tr>\n",
       "      <th>Survived</th>\n",
       "      <th></th>\n",
       "      <th></th>\n",
       "    </tr>\n",
       "  </thead>\n",
       "  <tbody>\n",
       "    <tr>\n",
       "      <th>Not Survived</th>\n",
       "      <td>0.068182</td>\n",
       "      <td>0.568421</td>\n",
       "    </tr>\n",
       "    <tr>\n",
       "      <th>Survived</th>\n",
       "      <td>0.931818</td>\n",
       "      <td>0.431579</td>\n",
       "    </tr>\n",
       "  </tbody>\n",
       "</table>\n",
       "</div>"
      ],
      "text/plain": [
       "Sex             female      male\n",
       "Survived                        \n",
       "Not Survived  0.068182  0.568421\n",
       "Survived      0.931818  0.431579"
      ]
     },
     "execution_count": 2,
     "metadata": {},
     "output_type": "execute_result"
    }
   ],
   "source": [
    "print(\"Crosstab data\")\n",
    "pd.crosstab(data.Survived,data.Sex).apply(lambda r:r/r.sum(),axis=0)"
   ]
  },
  {
   "cell_type": "code",
   "execution_count": 3,
   "metadata": {},
   "outputs": [
    {
     "name": "stdout",
     "output_type": "stream",
     "text": [
      "Prop Data\n"
     ]
    },
    {
     "data": {
      "text/html": [
       "<div>\n",
       "<style scoped>\n",
       "    .dataframe tbody tr th:only-of-type {\n",
       "        vertical-align: middle;\n",
       "    }\n",
       "\n",
       "    .dataframe tbody tr th {\n",
       "        vertical-align: top;\n",
       "    }\n",
       "\n",
       "    .dataframe thead th {\n",
       "        text-align: right;\n",
       "    }\n",
       "</style>\n",
       "<table border=\"1\" class=\"dataframe\">\n",
       "  <thead>\n",
       "    <tr style=\"text-align: right;\">\n",
       "      <th></th>\n",
       "      <th>proportions_survived</th>\n",
       "      <th>total_counts</th>\n",
       "    </tr>\n",
       "    <tr>\n",
       "      <th>Sex</th>\n",
       "      <th></th>\n",
       "      <th></th>\n",
       "    </tr>\n",
       "  </thead>\n",
       "  <tbody>\n",
       "    <tr>\n",
       "      <th>female</th>\n",
       "      <td>0.931818</td>\n",
       "      <td>88</td>\n",
       "    </tr>\n",
       "    <tr>\n",
       "      <th>male</th>\n",
       "      <td>0.431579</td>\n",
       "      <td>95</td>\n",
       "    </tr>\n",
       "  </tbody>\n",
       "</table>\n",
       "</div>"
      ],
      "text/plain": [
       "        proportions_survived  total_counts\n",
       "Sex                                       \n",
       "female              0.931818            88\n",
       "male                0.431579            95"
      ]
     },
     "execution_count": 3,
     "metadata": {},
     "output_type": "execute_result"
    }
   ],
   "source": [
    "total_proportion_survived = (data.Survived == \"Survived\").mean()\n",
    "num_female = data[data.Sex==\"female\"].shape[0]\n",
    "num_male = data[data.Sex==\"male\"].shape[0]\n",
    "assert num_female*total_proportion_survived>10, \"Assumptions not met\"\n",
    "assert num_male*total_proportion_survived>10, \"Assumptions not met\"\n",
    "assert num_female*(1-total_proportion_survived)>10, \"Assumptions not met\"\n",
    "assert num_male*(1-total_proportion_survived)>10, \"Assumptions not met\"\n",
    "\n",
    "#This table helps us to calculate the SE.\n",
    "prop = data.groupby(\"Sex\")[\"Survived\"].agg([lambda z: np.mean(z==\"Survived\"), \"size\"])\n",
    "prop.columns = ['proportions_survived','total_counts']\n",
    "\n",
    "print(\"Prop Data\")\n",
    "prop.head()"
   ]
  },
  {
   "cell_type": "code",
   "execution_count": 4,
   "metadata": {},
   "outputs": [
    {
     "name": "stdout",
     "output_type": "stream",
     "text": [
      "Sample Standard Error 0.06945435736849903\n"
     ]
    }
   ],
   "source": [
    "#Calculating standard error\n",
    " \n",
    "variance = total_proportion_survived * (1 - total_proportion_survived)\n",
    "standard_error = np.sqrt(variance * (1 / prop.total_counts.female + 1 / prop.total_counts.male))\n",
    "print(\"Sample Standard Error\",standard_error)"
   ]
  },
  {
   "cell_type": "code",
   "execution_count": 5,
   "metadata": {},
   "outputs": [
    {
     "name": "stdout",
     "output_type": "stream",
     "text": [
      "The best estimate is 0.5002392344497607\n",
      "Computed Test Statistic is 7.202416859113346\n"
     ]
    }
   ],
   "source": [
    "# Calculate the test statistic \n",
    "best_estimate = (prop.proportions_survived.female - prop.proportions_survived.male)\n",
    "print(\"The best estimate is\",best_estimate)\n",
    "hypothesized_estimate = 0\n",
    "test_stat = (best_estimate-hypothesized_estimate) / standard_error\n",
    "print(\"Computed Test Statistic is\",test_stat)"
   ]
  },
  {
   "cell_type": "code",
   "execution_count": 10,
   "metadata": {},
   "outputs": [
    {
     "name": "stdout",
     "output_type": "stream",
     "text": [
      "Computed P-value is 5.915451296155379e-13\n"
     ]
    }
   ],
   "source": [
    "# Calculate the  p-value\n",
    "pvalue = 2*dist.norm.cdf(-np.abs(test_stat)) # Multiplied by two indicates a two tailed testing.\n",
    "print(\"Computed P-value is\", pvalue)\n",
    "\n",
    "\n",
    "# We can clearly see that p-value is way lesser than the significance level of 0.10. \n",
    "# So we can safely reject the null hypothesis in favour of the alternative hypothesis. \n",
    "# We infer that the difference in proportions between that of survived females to that of survived males is significant and certainly not equal \n",
    "# to zero(females might had had better access to lifeboats)."
   ]
  }
 ],
 "metadata": {
  "interpreter": {
   "hash": "e2fb31f127fed1e79f709faf34890f85681c06e7e30d28a328e5c7500cdf6725"
  },
  "kernelspec": {
   "display_name": "Python 3.7.9 64-bit",
   "language": "python",
   "name": "python3"
  },
  "language_info": {
   "codemirror_mode": {
    "name": "ipython",
    "version": 3
   },
   "file_extension": ".py",
   "mimetype": "text/x-python",
   "name": "python",
   "nbconvert_exporter": "python",
   "pygments_lexer": "ipython3",
   "version": "3.7.9"
  },
  "orig_nbformat": 4
 },
 "nbformat": 4,
 "nbformat_minor": 2
}
