{
 "cells": [
  {
   "cell_type": "code",
   "execution_count": 1,
   "metadata": {},
   "outputs": [
    {
     "name": "stdout",
     "output_type": "stream",
     "text": [
      "Chi Square Test goodness of the test is: \n"
     ]
    },
    {
     "data": {
      "text/plain": [
       "Power_divergenceResult(statistic=4.359999999999999, pvalue=0.3594720674366307)"
      ]
     },
     "execution_count": 1,
     "metadata": {},
     "output_type": "execute_result"
    }
   ],
   "source": [
    "'''\n",
    "The Chi-Square test statistic is found to be 4.36 and the corresponding p-value is 0.35947.\n",
    "Note that the p-value corresponds to a Chi-Square value with n-1 degrees of freedom (dof), where n is the number of different categories. \n",
    "In this case, dof = 5-1 = 4. You can use the Chi-Square to P Value Calculator to confirm that the \n",
    "p-value that corresponds to X2 = 4.36 with dof = 4 is 0.35947.\n",
    "\n",
    "Since the p-value (.35947) is not less than 0.05, we fail to reject the null hypothesis. This means we do not have sufficient evidence to \n",
    "say that the true distribution of customers is different from the distribution that the shop owner claimed.\n",
    "'''\n",
    "\n",
    "# DATASET \n",
    "expected = [50, 50, 50, 50, 50]\n",
    "observed = [50, 60, 40, 47, 53]\n",
    "\n",
    "import scipy.stats as stats\n",
    "\n",
    "#perform Chi-Square Goodness of Fit Test\n",
    "print(\"Chi Square Test goodness of the test is: \")\n",
    "stats.chisquare(f_obs=observed, f_exp=expected)\n",
    "\n",
    "#(statistic=4.36, pvalue=0.35947)"
   ]
  }
 ],
 "metadata": {
  "interpreter": {
   "hash": "e2fb31f127fed1e79f709faf34890f85681c06e7e30d28a328e5c7500cdf6725"
  },
  "kernelspec": {
   "display_name": "Python 3.7.9 64-bit",
   "language": "python",
   "name": "python3"
  },
  "language_info": {
   "codemirror_mode": {
    "name": "ipython",
    "version": 3
   },
   "file_extension": ".py",
   "mimetype": "text/x-python",
   "name": "python",
   "nbconvert_exporter": "python",
   "pygments_lexer": "ipython3",
   "version": "3.7.9"
  },
  "orig_nbformat": 4
 },
 "nbformat": 4,
 "nbformat_minor": 2
}
