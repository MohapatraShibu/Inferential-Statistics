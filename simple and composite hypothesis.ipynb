{
 "cells": [
  {
   "cell_type": "code",
   "execution_count": 3,
   "metadata": {},
   "outputs": [
    {
     "name": "stdout",
     "output_type": "stream",
     "text": [
      "     patient     sex agegrp  bp_before  bp_after\n",
      "0          1    Male  30-45        143       153\n",
      "1          2    Male  30-45        163       170\n",
      "2          3    Male  30-45        153       168\n",
      "3          4    Male  30-45        153       142\n",
      "4          5    Male  30-45        146       141\n",
      "..       ...     ...    ...        ...       ...\n",
      "115      116  Female    60+        152       152\n",
      "116      117  Female    60+        161       152\n",
      "117      118  Female    60+        165       174\n",
      "118      119  Female    60+        149       151\n",
      "119      120  Female    60+        185       163\n",
      "\n",
      "[120 rows x 5 columns]\n",
      "Blood Pressure mean: \n",
      " patient       60.500000\n",
      "bp_before    156.450000\n",
      "bp_after     151.358333\n",
      "dtype: float64\n",
      "Blood Pressure standard deviation: \n",
      " patient      34.639813\n",
      "bp_before    11.342288\n",
      "bp_after     14.118425\n",
      "dtype: float64\n",
      "0.0011297914644840823\n",
      "----------------------------------------------------------------\n",
      "\n",
      "We reject null hypothesis, so it is a Composite Hypothesis\n"
     ]
    },
    {
     "name": "stderr",
     "output_type": "stream",
     "text": [
      "C:\\Users\\HP\\AppData\\Local\\Programs\\Python\\Python37\\lib\\site-packages\\numpy\\core\\fromnumeric.py:3438: FutureWarning: Dropping of nuisance columns in DataFrame reductions (with 'numeric_only=None') is deprecated; in a future version this will raise TypeError.  Select only valid columns before calling the reduction.\n",
      "  return mean(axis=axis, dtype=dtype, out=out, **kwargs)\n",
      "C:\\Users\\HP\\AppData\\Local\\Programs\\Python\\Python37\\lib\\site-packages\\numpy\\core\\fromnumeric.py:3579: FutureWarning: Dropping of nuisance columns in DataFrame reductions (with 'numeric_only=None') is deprecated; in a future version this will raise TypeError.  Select only valid columns before calling the reduction.\n",
      "  return std(axis=axis, dtype=dtype, out=out, ddof=ddof, **kwargs)\n"
     ]
    }
   ],
   "source": [
    "import pandas as pd\n",
    "from scipy import stats\n",
    "import numpy as np\n",
    "df = pd.read_csv(\"blood_pressure.csv\")\n",
    "\n",
    "print(df)\n",
    "\n",
    "bp_mean = np.mean(df)\n",
    "print(\"Blood Pressure mean: \\n\",bp_mean)\n",
    "\n",
    "bp_std = np.std(df)\n",
    "print(\"Blood Pressure standard deviation: \\n\",bp_std)\n",
    "\n",
    "df[['bp_before','bp_after']].describe()\n",
    "ttest,pval = stats.ttest_rel(df['bp_before'], df['bp_after'])\n",
    "print(pval)\n",
    "\n",
    "print(\"----------------------------------------------------------------\\n\")\n",
    "if pval <0.05:                # alpha value is 0.05 or 5%\n",
    "  print(\"We reject null hypothesis, so it is a Composite Hypothesis\")\n",
    "else:\n",
    "  print(\"We accept null hypothesis, so it is a Simple Hypothesis\")"
   ]
  }
 ],
 "metadata": {
  "interpreter": {
   "hash": "e2fb31f127fed1e79f709faf34890f85681c06e7e30d28a328e5c7500cdf6725"
  },
  "kernelspec": {
   "display_name": "Python 3.7.9 64-bit",
   "language": "python",
   "name": "python3"
  },
  "language_info": {
   "codemirror_mode": {
    "name": "ipython",
    "version": 3
   },
   "file_extension": ".py",
   "mimetype": "text/x-python",
   "name": "python",
   "nbconvert_exporter": "python",
   "pygments_lexer": "ipython3",
   "version": "3.7.9"
  },
  "orig_nbformat": 4
 },
 "nbformat": 4,
 "nbformat_minor": 2
}
