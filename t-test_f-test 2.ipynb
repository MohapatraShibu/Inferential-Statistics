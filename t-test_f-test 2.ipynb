{
 "cells": [
  {
   "cell_type": "markdown",
   "metadata": {},
   "source": [
    "Test for specified mean (T-test)"
   ]
  },
  {
   "cell_type": "code",
   "execution_count": 3,
   "metadata": {},
   "outputs": [
    {
     "name": "stdout",
     "output_type": "stream",
     "text": [
      "Test statistic is 0.826106\n",
      "p-value for one_tailed_test is 0.211300\n",
      "Conclusion n Since p-value(=0.211300) < alpha(=0.10) We reject the null hypothesis H0. \n",
      "    So we conclude that the students have benefited by the class. i.e., d = 0 at 0.10 level of significance.\n"
     ]
    }
   ],
   "source": [
    "'''\n",
    "Hypothesis\n",
    "H0: The students have not benefited from the class. i.e., d = 0\n",
    "H1: The students have benefited from the class. i.e., d < 0\n",
    "'''\n",
    "\n",
    "# DATASET \n",
    "alpha = 0.10\n",
    "exam_one =[23, 32, 27, 19, 25, 17, 33, 21, 29, 49, 34, 20, 18, 17, 23]\n",
    "exam_two=[24, 44, 32, 22, 18, 20, 22, 20, 20, 23, 20, 18, 13, 37, 19]\n",
    "\n",
    "from scipy import stats\n",
    "\n",
    "t_value,p_value=stats.ttest_rel(exam_one,exam_two)\n",
    "one_tailed_p_value=float(\"{:.6f}\".format(p_value/2)) \n",
    "print('Test statistic is %f'%float(\"{:.6f}\".format(t_value)))\n",
    "print('p-value for one_tailed_test is %f'%one_tailed_p_value)\n",
    "alpha = 0.10\n",
    "if one_tailed_p_value>=alpha:\n",
    "    print('Conclusion','n','Since p-value(=%f)'%one_tailed_p_value,'<','alpha(=%.2f)'%alpha,'''We reject the null hypothesis H0. \n",
    "    So we conclude that the students have benefited by the class. i.e., d = 0 at %.2f level of significance.'''%alpha)\n",
    "else:\n",
    "    print('Conclusion','n','Since p-value(=%f)'%one_tailed_p_value,'>','alpha(=%.2f)'%alpha,'''We do not reject the null hypothesis H0. \n",
    "    So we conclude that the students have not benefited by the class. i.e., d = 0 at %.2f level of significance.'''%alpha)"
   ]
  },
  {
   "cell_type": "markdown",
   "metadata": {},
   "source": [
    "Test for equality of means (F-test)"
   ]
  },
  {
   "cell_type": "code",
   "execution_count": 1,
   "metadata": {},
   "outputs": [
    {
     "name": "stdout",
     "output_type": "stream",
     "text": [
      "(2.258835408953214, 0.06972023885198686)\n",
      "Since the F critical > F value, the null hypothesis cannot be rejected.\n"
     ]
    }
   ],
   "source": [
    "'''\n",
    "Ttest whether two population variances are equal. The null and alternative hypotheses for the test are as follows:\n",
    "H0: σ12 = σ22 (the population variances are equal)\n",
    "H1: σ12 ≠ σ22 (the population variances are not equal)\n",
    "'''\n",
    "\n",
    "# DATASET \n",
    "x = [44, 18, 19, 38, 22, 61, 25, 27, 28, 41, 33, 21, 45, 51, 55]\n",
    "y = [14, 21, 47, 15, 15, 16, 17, 18, 22, 25, 26, 25, 27, 34, 35]\n",
    "\n",
    "import numpy as np\n",
    "import scipy\n",
    "from scipy import stats\n",
    "\n",
    "#define F-test function\n",
    "def f_test(x, y):\n",
    "    x = np.array(x)\n",
    "    y = np.array(y)\n",
    "    f = np.var(x, ddof=1)/np.var(y, ddof=1) #calculate F test statistic \n",
    "    dfn = x.size-1 #define degrees of freedom numerator \n",
    "    dfd = y.size-1 #define degrees of freedom denominator \n",
    "    p = 1-scipy.stats.f.cdf(f, dfn, dfd) #find p-value of F test statistic \n",
    "    return f, p\n",
    "\n",
    "#perform F-test\n",
    "f_test(x, y)\n",
    "print(f_test(x,y))\n",
    "\n",
    "if x < y:\n",
    "    print(\"Since the F critical < F value, the null hypothesis is rejected.\")\n",
    "else:\n",
    "    print(\"Since the F critical > F value, the null hypothesis cannot be rejected.\")"
   ]
  }
 ],
 "metadata": {
  "interpreter": {
   "hash": "e2fb31f127fed1e79f709faf34890f85681c06e7e30d28a328e5c7500cdf6725"
  },
  "kernelspec": {
   "display_name": "Python 3.7.9 64-bit",
   "language": "python",
   "name": "python3"
  },
  "language_info": {
   "codemirror_mode": {
    "name": "ipython",
    "version": 3
   },
   "file_extension": ".py",
   "mimetype": "text/x-python",
   "name": "python",
   "nbconvert_exporter": "python",
   "pygments_lexer": "ipython3",
   "version": "3.7.9"
  },
  "orig_nbformat": 4
 },
 "nbformat": 4,
 "nbformat_minor": 2
}
