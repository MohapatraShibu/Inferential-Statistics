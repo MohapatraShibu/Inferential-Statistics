{
 "cells": [
  {
   "cell_type": "code",
   "execution_count": 1,
   "metadata": {},
   "outputs": [
    {
     "name": "stdout",
     "output_type": "stream",
     "text": [
      "[62 69 77 ... 68 73 74]\n",
      "[20 25 22 ... 30 21 29]\n",
      "Breaks =  [62 69 77 ... 30 21 29]\n",
      "Population break =  39.99944444444444\n",
      "Sample break =  39.3\n",
      "Point Estimate for the mean =  0.6994444444444454\n"
     ]
    }
   ],
   "source": [
    "import numpy as np\n",
    "from scipy.stats import poisson\n",
    "import matplotlib.pyplot as plt\n",
    "\n",
    "np.random.seed(1234)\n",
    "\n",
    "# represents 3000 people who take about a 60 minute break\n",
    "long_breaks = poisson.rvs(loc=10, mu=60, size=3000)\n",
    "print(long_breaks)\n",
    "\n",
    "# represents 6000 people who take about a 15 minute break\n",
    "short_breaks = poisson.rvs(loc=10, mu=15, size=6000)\n",
    "print(short_breaks)\n",
    "\n",
    "# put the two arrays together to get our \"population\" of 9000 people\n",
    "breaks = np.concatenate((long_breaks, short_breaks))\n",
    "print(\"Breaks = \", breaks)\n",
    "\n",
    "# total average break length\n",
    "population_mean_break = breaks.mean()\n",
    "print(\"Population break = \", population_mean_break)\n",
    "\n",
    "# taking a sample of 100 employees\n",
    "sample_breaks = np.random.choice(a = breaks, size=100) \n",
    "\n",
    "# difference between means is 4.09 minutes, not bad!\n",
    "sample_mean_break = sample_breaks.mean()\n",
    "print(\"Sample break = \",sample_mean_break)\n",
    "\n",
    "estimate = population_mean_break - sample_mean_break\n",
    "print(\"Point Estimate for the mean = \",estimate)"
   ]
  }
 ],
 "metadata": {
  "interpreter": {
   "hash": "e2fb31f127fed1e79f709faf34890f85681c06e7e30d28a328e5c7500cdf6725"
  },
  "kernelspec": {
   "display_name": "Python 3.7.9 64-bit",
   "language": "python",
   "name": "python3"
  },
  "language_info": {
   "codemirror_mode": {
    "name": "ipython",
    "version": 3
   },
   "file_extension": ".py",
   "mimetype": "text/x-python",
   "name": "python",
   "nbconvert_exporter": "python",
   "pygments_lexer": "ipython3",
   "version": "3.7.9"
  },
  "orig_nbformat": 4
 },
 "nbformat": 4,
 "nbformat_minor": 2
}
